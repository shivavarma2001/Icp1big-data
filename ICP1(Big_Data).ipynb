{
  "nbformat": 4,
  "nbformat_minor": 0,
  "metadata": {
    "colab": {
      "provenance": []
    },
    "kernelspec": {
      "name": "python3",
      "display_name": "Python 3"
    },
    "language_info": {
      "name": "python"
    }
  },
  "cells": [
    {
      "cell_type": "code",
      "execution_count": 1,
      "metadata": {
        "colab": {
          "base_uri": "https://localhost:8080/"
        },
        "id": "KZhcU8EdcI5d",
        "outputId": "102b4fb8-0d3b-4e1e-83d2-ffd466818987"
      },
      "outputs": [
        {
          "output_type": "stream",
          "name": "stdout",
          "text": [
            "Mounted at /content/drive\n"
          ]
        }
      ],
      "source": [
        "from google.colab import drive\n",
        "drive.mount('/content/drive')"
      ]
    },
    {
      "cell_type": "code",
      "source": [
        "##5. String Operations\n",
        "\n",
        "# Task a: String input as list, delete 2 chars, reverse, print\n",
        "user_input = list(input(\"Enter a string (e.g., 'python'): \"))\n",
        "\n",
        "# Delete characters at position 1 and 2 (for example)\n",
        "del user_input[1:3]\n",
        "\n",
        "# Reverse the list\n",
        "user_input.reverse()\n",
        "\n",
        "# Print the final string\n",
        "result = ''.join(user_input)\n",
        "print(\"Final string after deletion and reversal:\", result)\n"
      ],
      "metadata": {
        "colab": {
          "base_uri": "https://localhost:8080/"
        },
        "id": "Q9ZxgNxTcYMw",
        "outputId": "0d941856-611c-4a46-9d97-a33719061af4"
      },
      "execution_count": 2,
      "outputs": [
        {
          "output_type": "stream",
          "name": "stdout",
          "text": [
            "Enter a string (e.g., 'python'): \"java\"\n",
            "Final string after deletion and reversal: \"av\"\n"
          ]
        }
      ]
    },
    {
      "cell_type": "code",
      "source": [
        "##  b. Arithmetic Operations\n",
        "\n",
        "# Task b: Perform arithmetic on two numbers\n",
        "num1 = float(input(\"Enter first number: \"))\n",
        "num2 = float(input(\"Enter second number: \"))\n",
        "\n",
        "print(\"Addition:\", num1 + num2)\n",
        "print(\"Subtraction:\", num1 - num2)\n",
        "print(\"Multiplication:\", num1 * num2)\n",
        "print(\"Division:\", num1 / num2 if num2 != 0 else \"Cannot divide by zero\")\n"
      ],
      "metadata": {
        "colab": {
          "base_uri": "https://localhost:8080/"
        },
        "id": "rezkXZX1eLKT",
        "outputId": "bfd4a8f4-459f-4b82-9e13-17d5add158c3"
      },
      "execution_count": 4,
      "outputs": [
        {
          "output_type": "stream",
          "name": "stdout",
          "text": [
            "Enter first number: 5\n",
            "Enter second number: 10\n",
            "Addition: 15.0\n",
            "Subtraction: -5.0\n",
            "Multiplication: 50.0\n",
            "Division: 0.5\n"
          ]
        }
      ]
    },
    {
      "cell_type": "code",
      "source": [
        "##6.\n",
        "# Accept input from the user\n",
        "sentence = input(\"Enter a sentence: \")\n",
        "\n",
        "# Replace all occurrences of 'python' with 'pythons'\n",
        "updated_sentence = sentence.replace(\"python\", \"pythons\")\n",
        "\n",
        "# Print the result\n",
        "print(\"Updated sentence:\", updated_sentence)\n"
      ],
      "metadata": {
        "colab": {
          "base_uri": "https://localhost:8080/"
        },
        "id": "Ka39wLEVeu4E",
        "outputId": "382c8a72-bf49-4ee0-caeb-d9f8ae9a4529"
      },
      "execution_count": 5,
      "outputs": [
        {
          "output_type": "stream",
          "name": "stdout",
          "text": [
            "Enter a sentence: I love playing with python\n",
            "Updated sentence: I love playing with pythons\n"
          ]
        }
      ]
    },
    {
      "cell_type": "code",
      "source": [
        "##7.\n",
        "\n",
        "# Ask user to input class score\n",
        "score = float(input(\"Enter your class score (0-100): \"))\n",
        "\n",
        "# Check grade using if-elif-else\n",
        "if score >= 90 and score <= 100:\n",
        "    grade = \"A\"\n",
        "elif score >= 80:\n",
        "    grade = \"B\"\n",
        "elif score >= 70:\n",
        "    grade = \"C\"\n",
        "elif score >= 60:\n",
        "    grade = \"D\"\n",
        "elif score >= 0:\n",
        "    grade = \"F\"\n",
        "else:\n",
        "    grade = \"Invalid score entered\"\n",
        "\n",
        "# Display the result\n",
        "print(\"Your grade is:\", grade)\n"
      ],
      "metadata": {
        "colab": {
          "base_uri": "https://localhost:8080/"
        },
        "id": "6tC5YzZvgTPJ",
        "outputId": "9fe7069a-5bec-4e03-b36c-879c9548f454"
      },
      "execution_count": 7,
      "outputs": [
        {
          "output_type": "stream",
          "name": "stdout",
          "text": [
            "Enter your class score (0-100): 92\n",
            "Your grade is: A\n"
          ]
        }
      ]
    },
    {
      "cell_type": "code",
      "source": [
        "##8.\n",
        "\n",
        "# Input list\n",
        "x = [23, 'Python', 23.98]\n",
        "\n",
        "# Create a list of the types of each element\n",
        "types = [type(item) for item in x]\n",
        "\n",
        "# Print the original list\n",
        "print(x)\n",
        "\n",
        "# Print the list of types\n",
        "print(types)\n"
      ],
      "metadata": {
        "colab": {
          "base_uri": "https://localhost:8080/"
        },
        "id": "UHwrvKbJgU9M",
        "outputId": "b77144a7-b6b3-4e6d-deda-37f05ca987e4"
      },
      "execution_count": 8,
      "outputs": [
        {
          "output_type": "stream",
          "name": "stdout",
          "text": [
            "[23, 'Python', 23.98]\n",
            "[<class 'int'>, <class 'str'>, <class 'float'>]\n"
          ]
        }
      ]
    },
    {
      "cell_type": "code",
      "source": [
        "# Initial data\n",
        "IT_companies = {'Facebook', 'Google', 'Microsoft', 'Apple', 'IBM', 'Oracle', 'Amazon'}\n",
        "A = {19, 22, 24, 20, 25, 26}\n",
        "B = {19, 22, 20, 25, 26, 24, 28, 27}\n",
        "age = [22, 19, 24, 25, 26, 24, 25, 24]\n",
        "\n",
        "# 1. Find the length of the set IT_companies\n",
        "print(\"Length of IT_companies:\", len(IT_companies))\n",
        "\n",
        "# 2. Add 'Twitter' to IT_companies\n",
        "IT_companies.add('Twitter')\n",
        "print(\"After adding Twitter:\", IT_companies)\n",
        "\n",
        "# 3. Insert multiple IT companies at once\n",
        "IT_companies.update(['Snapchat', 'Tesla', 'Infosys'])\n",
        "print(\"After adding multiple companies:\", IT_companies)\n",
        "\n",
        "# 4. Remove one company from IT_companies\n",
        "IT_companies.remove('Facebook')  # Use discard if you're unsure if element exists\n",
        "print(\"After removing Facebook:\", IT_companies)\n",
        "\n",
        "# 5. Difference between remove and discard\n",
        "print(\"Remove throws error if item not found, discard does not.\")\n",
        "\n",
        "# Example:\n",
        "try:\n",
        "    IT_companies.remove('NonExisting')  # This will raise an error\n",
        "except KeyError:\n",
        "    print(\"Using remove: KeyError if item not found.\")\n",
        "\n",
        "IT_companies.discard('NonExisting')  # This will do nothing\n",
        "print(\"Using discard: no error if item not found.\")\n",
        "\n",
        "# 6. Join A and B\n",
        "print(\"A union B:\", A.union(B))\n",
        "\n",
        "# 7. A intersection B\n",
        "print(\"A intersection B:\", A.intersection(B))\n",
        "\n",
        "# 8. Is A subset of B\n",
        "print(\"Is A subset of B?\", A.issubset(B))\n",
        "\n",
        "# 9. Are A and B disjoint sets\n",
        "print(\"Are A and B disjoint?\", A.isdisjoint(B))\n",
        "\n",
        "# 10. Join A with B and B with A\n",
        "print(\"A union B:\", A.union(B))\n",
        "print(\"B union A:\", B.union(A))\n",
        "\n",
        "# 11. Symmetric difference between A and B\n",
        "print(\"Symmetric difference between A and B:\", A.symmetric_difference(B))\n",
        "\n",
        "# 12. Delete the sets completely\n",
        "del IT_companies\n",
        "del A\n",
        "del B\n",
        "# (These are now deleted from memory and cannot be accessed)\n",
        "\n",
        "# 13. Convert age list to set and compare length\n",
        "age_set = set(age)\n",
        "print(\"Original age list:\", age)\n",
        "print(\"Converted age set:\", age_set)\n",
        "print(\"Length of list:\", len(age))\n",
        "print(\"Length of set:\", len(age_set))\n"
      ],
      "metadata": {
        "colab": {
          "base_uri": "https://localhost:8080/"
        },
        "id": "kERPvnkGg4hq",
        "outputId": "5b817279-313e-46a0-cbc1-d8d070aa8e9b"
      },
      "execution_count": 10,
      "outputs": [
        {
          "output_type": "stream",
          "name": "stdout",
          "text": [
            "Length of IT_companies: 7\n",
            "After adding Twitter: {'Facebook', 'Amazon', 'Oracle', 'Microsoft', 'Google', 'Apple', 'Twitter', 'IBM'}\n",
            "After adding multiple companies: {'Facebook', 'Infosys', 'Twitter', 'IBM', 'Oracle', 'Microsoft', 'Tesla', 'Google', 'Snapchat', 'Amazon', 'Apple'}\n",
            "After removing Facebook: {'Infosys', 'Twitter', 'IBM', 'Oracle', 'Microsoft', 'Tesla', 'Google', 'Snapchat', 'Amazon', 'Apple'}\n",
            "Remove throws error if item not found, discard does not.\n",
            "Using remove: KeyError if item not found.\n",
            "Using discard: no error if item not found.\n",
            "A union B: {19, 20, 22, 24, 25, 26, 27, 28}\n",
            "A intersection B: {19, 20, 22, 24, 25, 26}\n",
            "Is A subset of B? True\n",
            "Are A and B disjoint? False\n",
            "A union B: {19, 20, 22, 24, 25, 26, 27, 28}\n",
            "B union A: {19, 20, 22, 24, 25, 26, 27, 28}\n",
            "Symmetric difference between A and B: {27, 28}\n",
            "Original age list: [22, 19, 24, 25, 26, 24, 25, 24]\n",
            "Converted age set: {19, 22, 24, 25, 26}\n",
            "Length of list: 8\n",
            "Length of set: 5\n"
          ]
        }
      ]
    },
    {
      "cell_type": "code",
      "source": [],
      "metadata": {
        "id": "BZZHrG4ihVSi"
      },
      "execution_count": null,
      "outputs": []
    }
  ]
}